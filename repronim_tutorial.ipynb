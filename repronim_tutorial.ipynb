{
 "cells": [
  {
   "cell_type": "markdown",
   "id": "97c8f523",
   "metadata": {},
   "source": [
    "# Code demo for Physiopy's ReproNim webinar: <br>\"Physiopy Community: working towards accessible and reproducible data usage in neuroimaging studies\""
   ]
  },
  {
   "cell_type": "markdown",
   "id": "25c61c0c",
   "metadata": {},
   "source": [
    "This tutorial is showcasing three python library's developped and/or maintained by the [Physiopy community](https://physiopy.github.io/):\n",
    "<ul>\n",
    "<li><a href=\"https://github.com/physiopy/phys2bids\">phys2bids</a>: to format physiological data in BIDS</li>\n",
    "<li><a href=\"https://github.com/physiopy/peakdet\">peakdet</a>: to preprocess physiological data and perform peak detection</li>\n",
    "<li><a href=\"https://github.com/physiopy/phys2denoise\">phys2denoise</a>: to prepare physiological data for fMRI denoising</li>\n",
    "</ul>"
   ]
  },
  {
   "cell_type": "markdown",
   "id": "b36a32e4",
   "metadata": {},
   "source": [
    "<div class=\"alert alert-block alert-warning\">\n",
    "<b>Phys2bids recorded version</b>\n",
    "<br>Note that the recorded version of this tutorial will demonstrate the usage of phys2bids through the command line, while below we show an equivalent use case in python! For more details about phys2bids usage, please take a look at the <a href=\"https://phys2bids.readthedocs.io/en/latest/\">documentation</a> !\n",
    "</div>"
   ]
  },
  {
   "cell_type": "markdown",
   "id": "27342173",
   "metadata": {},
   "source": [
    "## Import dependencies"
   ]
  },
  {
   "cell_type": "code",
   "execution_count": 5,
   "id": "91b16ab4",
   "metadata": {},
   "outputs": [],
   "source": [
    "import os\n",
    "import matplotlib.pyplot as plt\n",
    "from physutils.io import load_from_bids, load_physio\n",
    "from phys2bids.phys2bids import phys2bids\n",
    "from peakdet import Physio, operations, io"
   ]
  },
  {
   "cell_type": "markdown",
   "id": "9002fe60",
   "metadata": {},
   "source": [
    "## Convert our raw acq file in bids format\n",
    "\n",
    "To convert our raw acq file in bids format, we will use `phys2bids`. This library can be use as a CLI directly in the terminal or inside a python script or jupyter notebook. For more details, take a look at the [documentation](https://phys2bids.readthedocs.io/en/latest/) !"
   ]
  },
  {
   "cell_type": "markdown",
   "id": "f3b092d7-bca8-40a8-81b6-54588976ab97",
   "metadata": {},
   "source": [
    "### Let's deal with some data"
   ]
  },
  {
   "cell_type": "code",
   "execution_count": 7,
   "id": "be667e2c",
   "metadata": {},
   "outputs": [],
   "source": [
    "# Let's first create our output directory\n",
    "bids_path = 'data/multifreq_bids'\n",
    "\n",
    "# If the directory does not exist, create it !\n",
    "if not os.path.exists(bids_path):\n",
    "    os.makedirs(bids_path)"
   ]
  },
  {
   "cell_type": "code",
   "execution_count": 8,
   "id": "9c3e3d65-6220-422c-8114-7a0f7c225968",
   "metadata": {},
   "outputs": [
    {
     "name": "stderr",
     "output_type": "stream",
     "text": [
      "INFO       Currently running phys2bids version 2.10.0\n",
      "INFO       Input file is data/multifreq.acq\n",
      "INFO       File extension is .acq\n",
      "WARNING    If both acq and txt files exist in the path, acq will be selected.\n",
      "INFO       Reading the file /home/user/Documents/physio/repronim2024physiopy/data/multifreq.acq\n",
      "INFO       00. Channel RESP - RSP100C: 1336815 samples, 10000.0 samples/sec, loaded: True\n",
      "INFO       01. Channel PULSE - Custom, DA100C: 83550 samples, 625.0 samples/sec, loaded: True\n",
      "INFO       02. Channel MR TRIGGER - Custom, HLT100C - A 5: 1336815 samples, 10000.0 samples/sec, loaded: True\n",
      "INFO       03. Channel PPG100C: 1336815 samples, 10000.0 samples/sec, loaded: True\n",
      "INFO       04. Channel CO2: 1336815 samples, 10000.0 samples/sec, loaded: True\n",
      "INFO       05. Channel O2: 1336815 samples, 10000.0 samples/sec, loaded: True\n",
      "INFO       Running automatic trigger detection.\n",
      "INFO       Matching channel names with known trigger names first.\n",
      "INFO       MR TRIGGER - Custom, HLT100C - A 5 selected as trigger channel\n",
      "INFO       Checking that units of measure are BIDS compatible\n",
      "INFO       Reading infos\n",
      "INFO       \n",
      "------------------------------------------------\n",
      "File data/multifreq.acq contains:\n",
      "01. RESP - RSP100C; sampled at 10000.0 Hz\n",
      "02. PULSE - Custom, DA100C; sampled at 625.0 Hz\n",
      "03. MR TRIGGER - Custom, HLT100C - A 5; sampled at 10000.0 Hz\n",
      "04. PPG100C; sampled at 10000.0 Hz\n",
      "05. CO2; sampled at 10000.0 Hz\n",
      "06. O2; sampled at 10000.0 Hz\n",
      "------------------------------------------------\n",
      "\n",
      "INFO       saving channel plot to /home/user/Documents/physio/repronim2024physiopy/data/multifreq_bids/code/conversion/multifreq.png\n"
     ]
    }
   ],
   "source": [
    "# Checkout the file info\n",
    "phys2bids(\n",
    "    'data/multifreq.acq',\n",
    "    info = True,\n",
    "    outdir = bids_path,\n",
    ")"
   ]
  },
  {
   "cell_type": "markdown",
   "id": "47ff5950-e94e-4261-b33b-73b253e741d9",
   "metadata": {},
   "source": [
    "<div class=\"alert alert-block alert-info\">\n",
    "<b>CLI version</b>\n",
    "<pre><code>phys2bids -in data/multifreq.acq -out data/multifreq_bids -info</code></pre>\n",
    "</div>"
   ]
  },
  {
   "cell_type": "code",
   "execution_count": 10,
   "id": "83a229ca-3f75-4372-8dfe-a5fcf949e105",
   "metadata": {},
   "outputs": [
    {
     "name": "stdout",
     "output_type": "stream",
     "text": [
      "multifreq_bids\n",
      "    code\n",
      "        conversion\n",
      "            call.sh\n",
      "            multifreq.png\n",
      "            phys2bids_2024-10-30T112434.tsv\n"
     ]
    }
   ],
   "source": [
    "# Let's check what we have inside our output directory\n",
    "def print_tree(outdir):\n",
    "    # Adapted from: https://stackoverflow.com/questions/9727673/list-directory-tree-structure-in-python\n",
    "    for root, dirs, files in os.walk(outdir):\n",
    "        level = root.replace(outdir, '').count(os.sep)\n",
    "        print(f\"{' ' * 4*level}{os.path.basename(root)}\")\n",
    "        for file in files:\n",
    "            print(f\"{' ' * 4*(level+1)}{os.path.basename(file)}\")\n",
    "\n",
    "\n",
    "print_tree(bids_path)"
   ]
  },
  {
   "cell_type": "code",
   "execution_count": 11,
   "id": "c4cb1ef3",
   "metadata": {
    "scrolled": false
   },
   "outputs": [
    {
     "name": "stderr",
     "output_type": "stream",
     "text": [
      "INFO       Currently running phys2bids version 2.10.0\n",
      "INFO       Input file is data/multifreq.acq\n",
      "INFO       File extension is .acq\n",
      "WARNING    If both acq and txt files exist in the path, acq will be selected.\n",
      "INFO       Reading the file /home/user/Documents/physio/repronim2024physiopy/data/multifreq.acq\n",
      "INFO       00. Channel RESP - RSP100C: 1336815 samples, 10000.0 samples/sec, loaded: True\n",
      "INFO       01. Channel PULSE - Custom, DA100C: 83550 samples, 625.0 samples/sec, loaded: True\n",
      "INFO       02. Channel MR TRIGGER - Custom, HLT100C - A 5: 1336815 samples, 10000.0 samples/sec, loaded: True\n",
      "INFO       03. Channel PPG100C: 1336815 samples, 10000.0 samples/sec, loaded: True\n",
      "INFO       04. Channel CO2: 1336815 samples, 10000.0 samples/sec, loaded: True\n",
      "INFO       05. Channel O2: 1336815 samples, 10000.0 samples/sec, loaded: True\n",
      "INFO       Running automatic trigger detection.\n",
      "INFO       Matching channel names with known trigger names first.\n",
      "INFO       MR TRIGGER - Custom, HLT100C - A 5 selected as trigger channel\n",
      "INFO       Checking that units of measure are BIDS compatible\n",
      "INFO       Reading infos\n",
      "INFO       \n",
      "------------------------------------------------\n",
      "File data/multifreq.acq contains:\n",
      "01. RESP - RSP100C; sampled at 10000.0 Hz\n",
      "02. PULSE - Custom, DA100C; sampled at 625.0 Hz\n",
      "03. MR TRIGGER - Custom, HLT100C - A 5; sampled at 10000.0 Hz\n",
      "04. PPG100C; sampled at 10000.0 Hz\n",
      "05. CO2; sampled at 10000.0 Hz\n",
      "06. O2; sampled at 10000.0 Hz\n",
      "------------------------------------------------\n",
      "\n",
      "INFO       saving channel plot to /home/user/Documents/physio/repronim2024physiopy/data/multifreq_bids/code/conversion/multifreq.png\n",
      "INFO       Dropping unselected channels\n",
      "INFO       Counting trigger points\n",
      "INFO       The trigger is in channel 3\n",
      "INFO       The number of timepoints according to the std_thr method is 60. The computed threshold is 0.1097\n",
      "INFO       Checking number of timepoints\n",
      "INFO       Found just the right amount of timepoints!\n",
      "INFO       Plot trigger\n",
      "INFO       Found 2 different frequencies in input!\n",
      "INFO       Preparing 2 output files.\n",
      "INFO       Preparing BIDS output using data/heur_tutorial.py\n",
      "INFO       Updating participants.tsv ...\n",
      "WARNING    phys2bids could not find participants.tsv\n",
      "INFO       No yaml file was provided. Using phys2bids data to populate participants.tsv\n",
      "WARNING    phys2bids could not find dataset_description.json,generating it with provided info\n",
      "WARNING    phys2bids could not find README,generating it EMPTY, please fill in the necessary info\n",
      "INFO       Exporting files for take 1 freq 10000.0\n",
      "INFO       \n",
      "------------------------------------------------\n",
      "Filename:            data/multifreq.acq\n",
      "\n",
      "Timepoints expected: [60]\n",
      "Timepoints found:    60\n",
      "Sampling Frequency:  10000.0 Hz\n",
      "Sampling started at: 10.4251 s\n",
      "Tip: Time 0 is the time of first trigger\n",
      "------------------------------------------------\n",
      "\n",
      "INFO       Exporting files for take 1 freq 625.0\n",
      "INFO       \n",
      "------------------------------------------------\n",
      "Filename:            data/multifreq.acq\n",
      "\n",
      "Timepoints expected: [60]\n",
      "Timepoints found:    60\n",
      "Sampling Frequency:  625.0 Hz\n",
      "Sampling started at: 10.4251 s\n",
      "Tip: Time 0 is the time of first trigger\n",
      "------------------------------------------------\n",
      "\n"
     ]
    }
   ],
   "source": [
    "# Let's bids-ify the data\n",
    "phys2bids(\n",
    "    'data/multifreq.acq',\n",
    "    info = False,\n",
    "    outdir = bids_path,\n",
    "    num_timepoints_expected = 60,\n",
    "    tr = 1.5,\n",
    "    chsel = [1, 2, 3, 4],\n",
    "    sub = '002',\n",
    "    ses = '01',\n",
    "    heur_file = 'data/heur_tutorial.py'\n",
    ")"
   ]
  },
  {
   "cell_type": "markdown",
   "id": "cc756e36-6c68-402b-8e09-069fa878fac1",
   "metadata": {},
   "source": [
    "<div class=\"alert alert-block alert-info\">\n",
    "<b>CLI version</b>\n",
    "<pre><code>phys2bids -in data/multifreq.acq -out data/multifreq_bids -ntp 60 -tr 1.5 -chsel 1 2 3 4 -sub 002 -ses 01 -heur data/heur_tutorial.py</code></pre>\n",
    "</div>"
   ]
  },
  {
   "cell_type": "code",
   "execution_count": 13,
   "id": "db1c1407-8bf0-4806-b2c0-841a7b9768b5",
   "metadata": {},
   "outputs": [
    {
     "name": "stdout",
     "output_type": "stream",
     "text": [
      "multifreq_bids\n",
      "    dataset_description.json\n",
      "    README\n",
      "    participants.tsv\n",
      "    sub-002\n",
      "        ses-01\n",
      "            func\n",
      "                sub-002_ses-01_task-SomeTask_recording-10000Hz_physio.json\n",
      "                sub-002_ses-01_task-SomeTask_recording-10000Hz_physio.tsv.gz\n",
      "                sub-002_ses-01_task-SomeTask_recording-625Hz_physio.json\n",
      "                sub-002_ses-01_task-SomeTask_recording-625Hz_physio.tsv.gz\n",
      "    code\n",
      "        conversion\n",
      "            heur_tutorial.py\n",
      "            call.sh\n",
      "            phys2bids_2024-10-30T112512.tsv\n",
      "            sub-002_ses-01_task-SomeTask_recording-625Hz_physio.log\n",
      "            multifreq.png\n",
      "            multifreq_sub-002_ses-01_trigger_time.png\n",
      "            sub-002_ses-01_task-SomeTask_recording-10000Hz_physio.log\n",
      "            phys2bids_2024-10-30T112434.tsv\n"
     ]
    }
   ],
   "source": [
    "# Let's check what we have now inside our output directory\n",
    "print_tree(bids_path)"
   ]
  },
  {
   "cell_type": "markdown",
   "id": "b0e127bd",
   "metadata": {},
   "source": [
    "## Preprocessing time !"
   ]
  },
  {
   "cell_type": "markdown",
   "id": "e8536e21",
   "metadata": {},
   "source": [
    "### Let's load our data"
   ]
  },
  {
   "cell_type": "code",
   "execution_count": 15,
   "id": "0e14b49a",
   "metadata": {
    "scrolled": true
   },
   "outputs": [
    {
     "name": "stderr",
     "output_type": "stream",
     "text": [
      "\u001b[32m2024-10-30 11:27:06.486\u001b[0m | \u001b[34m\u001b[1mDEBUG   \u001b[0m | \u001b[36mphysutils.io\u001b[0m:\u001b[36mload_from_bids\u001b[0m:\u001b[36m68\u001b[0m - \u001b[34m\u001b[1mBIDS file found: [<BIDSDataFile filename='/home/user/Documents/physio/repronim2024physiopy/data/multifreq_bids/sub-002/ses-01/func/sub-002_ses-01_task-SomeTask_recording-10000Hz_physio.tsv.gz'>]\u001b[0m\n",
      "\u001b[32m2024-10-30 11:27:06.488\u001b[0m | \u001b[34m\u001b[1mDEBUG   \u001b[0m | \u001b[36mphysutils.io\u001b[0m:\u001b[36mload_from_bids\u001b[0m:\u001b[36m82\u001b[0m - \u001b[34m\u001b[1mLoaded structure contains columns: ['time', 'RESP - RSP100C', 'MR TRIGGER - Custom, HLT100C - A 5', 'PPG100C']\u001b[0m\n",
      "\u001b[32m2024-10-30 11:27:10.901\u001b[0m | \u001b[34m\u001b[1mDEBUG   \u001b[0m | \u001b[36mphysutils.physio\u001b[0m:\u001b[36m__init__\u001b[0m:\u001b[36m293\u001b[0m - \u001b[34m\u001b[1mInitializing new Physio object\u001b[0m\n",
      "\u001b[32m2024-10-30 11:27:10.902\u001b[0m | \u001b[33m\u001b[1mWARNING \u001b[0m | \u001b[36mphysutils.io\u001b[0m:\u001b[36mload_from_bids\u001b[0m:\u001b[36m128\u001b[0m - \u001b[33m\u001b[1mMRI trigger characteristics extraction not yet implemented\u001b[0m\n",
      "\u001b[32m2024-10-30 11:27:10.904\u001b[0m | \u001b[34m\u001b[1mDEBUG   \u001b[0m | \u001b[36mphysutils.physio\u001b[0m:\u001b[36m__init__\u001b[0m:\u001b[36m293\u001b[0m - \u001b[34m\u001b[1mInitializing new Physio object\u001b[0m\n",
      "\u001b[32m2024-10-30 11:27:10.906\u001b[0m | \u001b[34m\u001b[1mDEBUG   \u001b[0m | \u001b[36mphysutils.physio\u001b[0m:\u001b[36m__init__\u001b[0m:\u001b[36m293\u001b[0m - \u001b[34m\u001b[1mInitializing new Physio object\u001b[0m\n"
     ]
    }
   ],
   "source": [
    "# Let's load our timeseries from the phys2bids output !\n",
    "\n",
    "data = load_from_bids(\n",
    "    bids_path, \n",
    "    subject='002',\n",
    "    session='01',\n",
    "    task='SomeTask',\n",
    "    recording='10000Hz')"
   ]
  },
  {
   "cell_type": "code",
   "execution_count": 19,
   "id": "c1a57810",
   "metadata": {},
   "outputs": [
    {
     "name": "stdout",
     "output_type": "stream",
     "text": [
      "{'RESP - RSP100C': Physio(size=1128313, fs=10000.0), 'MR TRIGGER - Custom, HLT100C - A 5': Physio(size=1128313, fs=10000.0), 'PPG100C': Physio(size=1128313, fs=10000.0)}\n"
     ]
    }
   ],
   "source": [
    "print(data)"
   ]
  },
  {
   "cell_type": "markdown",
   "id": "0494b752",
   "metadata": {},
   "source": [
    "<div class=\"alert alert-block alert-info\">\n",
    "<b>What do we have here ?</b>\n",
    "<br><code>data</code> is a dictionnary. Each element of this dictionnary corresponds to one channel:\n",
    "<ul>\n",
    "    <li>RESP - RSP100C</li>\n",
    "    <li>MR  TRIGGER - Custom, HLT100C - A5</li>\n",
    "    <li>PPG100C</li>\n",
    "</ul>\n",
    "The value associated with each key is a <a href=\"https://peakdet.readthedocs.io/en/latest/api.html#peakdet.Physio\"><code>Physio</code></a> object. For the rest of this tutorial, we will focus on the PPG data.\n",
    "</div>"
   ]
  },
  {
   "cell_type": "code",
   "execution_count": 22,
   "id": "320e0bb7",
   "metadata": {},
   "outputs": [
    {
     "name": "stdout",
     "output_type": "stream",
     "text": [
      "Physio(size=1128313, fs=10000.0)\n"
     ]
    }
   ],
   "source": [
    "phys_ppg = data['PPG100C']\n",
    "print(phys_ppg)"
   ]
  },
  {
   "cell_type": "code",
   "execution_count": 31,
   "id": "57fc6702",
   "metadata": {},
   "outputs": [
    {
     "name": "stdout",
     "output_type": "stream",
     "text": [
      "Data: [ 0.08483887  0.08514404  0.08483887 ... -0.01373291 -0.01464844\n",
      " -0.01403809]\n",
      "Sampling rate: 10000.0\n"
     ]
    }
   ],
   "source": [
    "# We can access out data by calling the `data` attribute on our physio object\n",
    "print(f'Data: {phys_ppg.data}')\n",
    "# As well as its corresponding sampling rate by calling the `fs` attribute\n",
    "print(f'Sampling rate: {phys_ppg.fs}')"
   ]
  },
  {
   "cell_type": "markdown",
   "id": "a3f8a664",
   "metadata": {},
   "source": [
    "### Let's now visualize our data"
   ]
  },
  {
   "cell_type": "code",
   "execution_count": 39,
   "id": "bdb840d4",
   "metadata": {},
   "outputs": [],
   "source": [
    "%matplotlib qt"
   ]
  },
  {
   "cell_type": "code",
   "execution_count": 40,
   "id": "1b089e33",
   "metadata": {
    "scrolled": false
   },
   "outputs": [
    {
     "data": {
      "text/plain": [
       "Text(0, 0.5, 'Amplitude')"
      ]
     },
     "execution_count": 40,
     "metadata": {},
     "output_type": "execute_result"
    }
   ],
   "source": [
    "ax = operations.plot_physio(phys_ppg)\n",
    "ax.set_title(\"Raw PPG\")\n",
    "ax.set_xlabel(\"Time (seconds)\")\n",
    "ax.set_ylabel(\"Amplitude\")"
   ]
  },
  {
   "cell_type": "markdown",
   "id": "84aafb62",
   "metadata": {},
   "source": [
    "### Let's try cleaning our signal"
   ]
  },
  {
   "cell_type": "code",
   "execution_count": null,
   "id": "552143df",
   "metadata": {},
   "outputs": [],
   "source": [
    "# TODO: update following sections"
   ]
  },
  {
   "cell_type": "code",
   "execution_count": null,
   "id": "3a0b8bba",
   "metadata": {},
   "outputs": [],
   "source": [
    "# We can filter out some frequencies using the `filter_physio` function\n",
    "phys_ppg = operations.filter_physio(phys_ppg, cutoffs=[0.5, 35], method='bandpass')\n",
    "print(phys_ecg.history)"
   ]
  },
  {
   "cell_type": "markdown",
   "id": "dc5950be",
   "metadata": {},
   "source": [
    "## We can now find our R peaks !"
   ]
  },
  {
   "cell_type": "code",
   "execution_count": 10,
   "id": "af9d309e",
   "metadata": {},
   "outputs": [],
   "source": [
    "phys_ecg = operations.peakfind_physio(phys_ecg)"
   ]
  },
  {
   "cell_type": "code",
   "execution_count": 11,
   "id": "3f14b0bd",
   "metadata": {},
   "outputs": [
    {
     "data": {
      "image/png": "[encoded data removed]",
      "text/plain": [
       "<Figure size 2000x200 with 1 Axes>"
      ]
     },
     "metadata": {},
     "output_type": "display_data"
    }
   ],
   "source": [
    "plt.figure(figsize=(20, 2))\n",
    "plt.plot(phys_ecg.data[:10*1000])\n",
    "peaks_idx = phys_ecg.peaks[phys_ecg.peaks<10*1000]\n",
    "plt.plot(peaks_idx, phys_ecg.data[peaks_idx], 'ro')\n",
    "plt.show()"
   ]
  },
  {
   "cell_type": "code",
   "execution_count": 12,
   "id": "836a459e",
   "metadata": {},
   "outputs": [
    {
     "data": {
      "text/plain": [
       "(30,)"
      ]
     },
     "execution_count": 12,
     "metadata": {},
     "output_type": "execute_result"
    }
   ],
   "source": [
    "peaks_idx.shape"
   ]
  },
  {
   "cell_type": "markdown",
   "id": "1480fd91",
   "metadata": {},
   "source": [
    "<div class=\"alert alert-block alert-info\">\n",
    "<b>Wait... Does that make sense ?</b>\n",
    "<br>We have more than 20 peaks for 10 secondes, which means that we have an heart rate above 120 bpm ! Although not physiologically impossible, it is not what we should expect. Indeed, when we created our simulated signals, we have specified a desired heart rate of 70 bpm...\n",
    "</div>"
   ]
  },
  {
   "cell_type": "markdown",
   "id": "3a05b1af",
   "metadata": {},
   "source": [
    "## Automation is useful, but manual check is necessary !"
   ]
  },
  {
   "cell_type": "code",
   "execution_count": 13,
   "id": "a94bd989",
   "metadata": {},
   "outputs": [],
   "source": [
    "%matplotlib qt\n",
    "phys_ecg = operations.edit_physio(phys_ecg)"
   ]
  },
  {
   "cell_type": "markdown",
   "id": "67dd6d05",
   "metadata": {},
   "source": [
    "<div class=\"alert alert-block alert-warning\">\n",
    "<b><code>edit_physio</code> is not working in jupyter notebook ?</b>\n",
    "<br>If the GUI is not working in jupyter notebook, please try running the python code in your terminal.\n",
    "</div>"
   ]
  },
  {
   "cell_type": "markdown",
   "id": "c65ade46",
   "metadata": {},
   "source": [
    "**Let's check what is now happening in the history of our Physio object**"
   ]
  },
  {
   "cell_type": "code",
   "execution_count": 14,
   "id": "2b1b38e6",
   "metadata": {
    "scrolled": true
   },
   "outputs": [
    {
     "data": {
      "text/plain": [
       "[('filter_physio', {'cutoffs': [0.5, 35], 'method': 'bandpass'}),\n",
       " ('peakfind_physio', {}),\n",
       " ('delete_peaks',\n",
       "  {'remove': [13971,\n",
       "    14327,\n",
       "    14560,\n",
       "    14794,\n",
       "    15429,\n",
       "    15669,\n",
       "    16131,\n",
       "    16576,\n",
       "    16783,\n",
       "    17162,\n",
       "    17394,\n",
       "    17728,\n",
       "    18006,\n",
       "    18269,\n",
       "    18853,\n",
       "    19066,\n",
       "    19302,\n",
       "    19713,\n",
       "    20062,\n",
       "    20577,\n",
       "    20874,\n",
       "    21429]}),\n",
       " ('add_peaks', {'add': [19713, 20577]})]"
      ]
     },
     "execution_count": 14,
     "metadata": {},
     "output_type": "execute_result"
    }
   ],
   "source": [
    "phys_ecg.history"
   ]
  },
  {
   "cell_type": "code",
   "execution_count": 15,
   "id": "7c8c137e",
   "metadata": {},
   "outputs": [
    {
     "data": {
      "text/plain": [
       "'data/sub-test_ses-test_task-test_run-test_desc-peaks.phys'"
      ]
     },
     "execution_count": 15,
     "metadata": {},
     "output_type": "execute_result"
    }
   ],
   "source": [
    "# Let's save our hard work !\n",
    "save_physio('data/sub-test_ses-test_task-test_run-test_desc-peaks.phys', phys_ecg)"
   ]
  },
  {
   "cell_type": "markdown",
   "id": "b01468d6",
   "metadata": {},
   "source": [
    "## Preparing physiological models"
   ]
  },
  {
   "cell_type": "code",
   "execution_count": 16,
   "id": "4669cb8b",
   "metadata": {},
   "outputs": [],
   "source": [
    "# To extract metrics from our signal, we'll use `phys2denoise`\n",
    "from phys2denoise.metrics import heart_rate_variability\n",
    "from phys2denoise.metrics.utils import export_metric"
   ]
  },
  {
   "cell_type": "code",
   "execution_count": 17,
   "id": "f7c0114b",
   "metadata": {},
   "outputs": [
    {
     "name": "stdout",
     "output_type": "stream",
     "text": [
      "[('filter_physio', {'cutoffs': [0.5, 35], 'method': 'bandpass'}), ('peakfind_physio', {}), ('delete_peaks', {'remove': [13971, 14327, 14560, 14794, 15429, 15669, 16131, 16576, 16783, 17162, 17394, 17728, 18006, 18269, 18853, 19066, 19302, 19713, 20062, 20577, 20874, 21429]}), ('add_peaks', {'add': [19713, 20577]})]\n"
     ]
    }
   ],
   "source": [
    "phys_ecg = load_physio('data/sub-test_ses-test_task-test_run-test_desc-peaks.phys', allow_pickle=True)\n",
    "print(phys_ecg.history)"
   ]
  },
  {
   "cell_type": "code",
   "execution_count": 18,
   "id": "84548566",
   "metadata": {},
   "outputs": [],
   "source": [
    "hrv = heart_rate_variability(phys_ecg.data, phys_ecg.peaks, phys_ecg.fs)"
   ]
  },
  {
   "cell_type": "code",
   "execution_count": 19,
   "id": "6a43b3bd",
   "metadata": {},
   "outputs": [],
   "source": [
    "plt.figure(figsize=(20, 2))\n",
    "plt.plot(hrv, label=[\"hrv\", \"convolved hrv\"])\n",
    "plt.legend(loc=\"lower right\")\n",
    "plt.show()"
   ]
  },
  {
   "cell_type": "code",
   "execution_count": 20,
   "id": "3d64b731",
   "metadata": {},
   "outputs": [
    {
     "data": {
      "text/plain": [
       "'data/sub-test_ses-test_task-test_run-test_desc-hrv'"
      ]
     },
     "execution_count": 20,
     "metadata": {},
     "output_type": "execute_result"
    }
   ],
   "source": [
    "export_metric(\n",
    "    hrv, phys_ecg.fs, tr=1.5, fileprefix=\"data/sub-test_ses-test_task-test_run-test_desc-hrv\"\n",
    ")"
   ]
  },
  {
   "cell_type": "markdown",
   "id": "e5525588",
   "metadata": {},
   "source": [
    "<div class=\"alert alert-block alert-info\">\n",
    "<b>Variability in heart rate variability</b>\n",
    "<br> There are different ways to calculate <b>hrv</b>. Currently, <i>phys2denoise</i> is computing the average of the inverse of the time interval\n",
    "between two heart beats.\n",
    "</div>"
   ]
  },
  {
   "cell_type": "markdown",
   "id": "d23dcc68",
   "metadata": {},
   "source": [
    "## Wanna contribute ?\n",
    "Take a look at our [contributor guide](https://physiopy.github.io/contributors-guide/)"
   ]
  },
  {
   "cell_type": "code",
   "execution_count": 1,
   "id": "9152b0b4",
   "metadata": {},
   "outputs": [
    {
     "data": {
      "text/html": [
       "\n",
       "        <iframe\n",
       "            width=\"900\"\n",
       "            height=\"500\"\n",
       "            src=\"https://physiopy.github.io/contributors-guide/\"\n",
       "            frameborder=\"0\"\n",
       "            allowfullscreen\n",
       "            \n",
       "        ></iframe>\n",
       "        "
      ],
      "text/plain": [
       "<IPython.lib.display.IFrame at 0x7fcf007abb50>"
      ]
     },
     "execution_count": 1,
     "metadata": {},
     "output_type": "execute_result"
    }
   ],
   "source": [
    "from IPython.display import IFrame\n",
    "IFrame(\"https://physiopy.github.io/contributors-guide/\", 900,500)"
   ]
  }
 ],
 "metadata": {
  "kernelspec": {
   "display_name": "env",
   "language": "python",
   "name": "env"
  },
  "language_info": {
   "codemirror_mode": {
    "name": "ipython",
    "version": 3
   },
   "file_extension": ".py",
   "mimetype": "text/x-python",
   "name": "python",
   "nbconvert_exporter": "python",
   "pygments_lexer": "ipython3",
   "version": "3.8.10"
  }
 },
 "nbformat": 4,
 "nbformat_minor": 5
}
