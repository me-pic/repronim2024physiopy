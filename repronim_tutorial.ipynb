{
 "cells": [
  {
   "cell_type": "markdown",
   "id": "97c8f523",
   "metadata": {},
   "source": [
    "# Code demo for Physiopy's ReproNim webinar: <br>\"Physiopy Community: working towards accessible and reproducible data integration in neuroimaging studies\""
   ]
  },
  {
   "cell_type": "markdown",
   "id": "25c61c0c",
   "metadata": {},
   "source": [
    "This tutorial is showcasing three python library's developped and/or maintained by the [Physiopy community](https://physiopy.github.io/):\n",
    "<ul>\n",
    "<li><a href=\"https://github.com/physiopy/phys2bids\">phys2bids</a>: to format physiological data in BIDS</li>\n",
    "<li><a href=\"https://github.com/physiopy/peakdet\">peakdet</a>: to preprocess physiological data and perform peak detection</li>\n",
    "<li><a href=\"https://github.com/physiopy/phys2denoise\">phys2denoise</a>: to prepare physiological data for fMRI denoising</li>\n",
    "</ul>"
   ]
  },
  {
   "cell_type": "markdown",
   "id": "b36a32e4",
   "metadata": {},
   "source": [
    "<div class=\"alert alert-block alert-warning\">\n",
    "<b>Note on the recorded version of this tutorial</b>\n",
    "<br>Note that the recorded version of this tutorial will demonstrate the usage of phys2bids through the command line (see <a href=\"https://github.com/me-pic/repronim2024physiopy?tab=readme-ov-file#5-lets-get-started-\">this repository</a> to follow along), while below we show an equivalent use case in python! For more details about phys2bids usage, please take a look at the <a href=\"https://phys2bids.readthedocs.io/en/latest/\">documentation</a> !\n",
    "</div>"
   ]
  },
  {
   "cell_type": "markdown",
   "id": "27342173",
   "metadata": {},
   "source": [
    "## Import dependencies"
   ]
  },
  {
   "cell_type": "code",
   "execution_count": 1,
   "id": "91b16ab4",
   "metadata": {},
   "outputs": [],
   "source": [
    "import os\n",
    "import matplotlib.pyplot as plt\n",
    "from physutils.io import load_from_bids, load_physio\n",
    "from phys2bids.phys2bids import phys2bids\n",
    "from peakdet import Physio, operations, io"
   ]
  },
  {
   "cell_type": "markdown",
   "id": "9002fe60",
   "metadata": {},
   "source": [
    "## Convert our raw acq file in bids format\n",
    "\n",
    "To convert our raw acq file in bids format, we will use `phys2bids`. This library can be use as a CLI directly in the terminal or inside a python script or jupyter notebook. For more details, take a look at the [documentation](https://phys2bids.readthedocs.io/en/latest/) !"
   ]
  },
  {
   "cell_type": "markdown",
   "id": "f3b092d7-bca8-40a8-81b6-54588976ab97",
   "metadata": {},
   "source": [
    "### Let's deal with some data"
   ]
  },
  {
   "cell_type": "code",
   "execution_count": 2,
   "id": "be667e2c",
   "metadata": {},
   "outputs": [],
   "source": [
    "# Let's first create our output directory\n",
    "bids_path = 'data/multifreq_bids'\n",
    "\n",
    "# If the directory does not exist, create it !\n",
    "if not os.path.exists(bids_path):\n",
    "    os.makedirs(bids_path)"
   ]
  },
  {
   "cell_type": "code",
   "execution_count": 3,
   "id": "9c3e3d65-6220-422c-8114-7a0f7c225968",
   "metadata": {},
   "outputs": [
    {
     "name": "stderr",
     "output_type": "stream",
     "text": [
      "INFO       Currently running phys2bids version 2.10.0\n",
      "INFO       Input file is data/multifreq.acq\n",
      "INFO       File extension is .acq\n",
      "WARNING    If both acq and txt files exist in the path, acq will be selected.\n",
      "INFO       Reading the file /home/user/Documents/physio/repronim2024physiopy/data/multifreq.acq\n",
      "INFO       00. Channel RESP - RSP100C: 1336815 samples, 10000.0 samples/sec, loaded: True\n",
      "INFO       01. Channel PULSE - Custom, DA100C: 83550 samples, 625.0 samples/sec, loaded: True\n",
      "INFO       02. Channel MR TRIGGER - Custom, HLT100C - A 5: 1336815 samples, 10000.0 samples/sec, loaded: True\n",
      "INFO       03. Channel PPG100C: 1336815 samples, 10000.0 samples/sec, loaded: True\n",
      "INFO       04. Channel CO2: 1336815 samples, 10000.0 samples/sec, loaded: True\n",
      "INFO       05. Channel O2: 1336815 samples, 10000.0 samples/sec, loaded: True\n",
      "INFO       Running automatic trigger detection.\n",
      "INFO       Matching channel names with known trigger names first.\n",
      "INFO       MR TRIGGER - Custom, HLT100C - A 5 selected as trigger channel\n",
      "INFO       Checking that units of measure are BIDS compatible\n",
      "INFO       Reading infos\n",
      "INFO       \n",
      "------------------------------------------------\n",
      "File data/multifreq.acq contains:\n",
      "01. RESP - RSP100C; sampled at 10000.0 Hz\n",
      "02. PULSE - Custom, DA100C; sampled at 625.0 Hz\n",
      "03. MR TRIGGER - Custom, HLT100C - A 5; sampled at 10000.0 Hz\n",
      "04. PPG100C; sampled at 10000.0 Hz\n",
      "05. CO2; sampled at 10000.0 Hz\n",
      "06. O2; sampled at 10000.0 Hz\n",
      "------------------------------------------------\n",
      "\n",
      "INFO       saving channel plot to /home/user/Documents/physio/repronim2024physiopy/data/multifreq_bids/code/conversion/multifreq.png\n"
     ]
    }
   ],
   "source": [
    "# Checkout the file info\n",
    "phys2bids(\n",
    "    'data/multifreq.acq',\n",
    "    info = True,\n",
    "    outdir = bids_path,\n",
    ")"
   ]
  },
  {
   "cell_type": "markdown",
   "id": "47ff5950-e94e-4261-b33b-73b253e741d9",
   "metadata": {},
   "source": [
    "<div class=\"alert alert-block alert-info\">\n",
    "<b>CLI version</b>\n",
    "<pre><code>phys2bids -in data/multifreq.acq -out data/multifreq_bids -info</code></pre>\n",
    "</div>"
   ]
  },
  {
   "cell_type": "code",
   "execution_count": 4,
   "id": "83a229ca-3f75-4372-8dfe-a5fcf949e105",
   "metadata": {},
   "outputs": [
    {
     "name": "stdout",
     "output_type": "stream",
     "text": [
      "multifreq_bids\n",
      "    code\n",
      "        conversion\n",
      "            call.sh\n",
      "            phys2bids_2024-11-01T113432.tsv\n",
      "            multifreq.png\n"
     ]
    }
   ],
   "source": [
    "# Let's check what we have inside our output directory\n",
    "def print_tree(outdir):\n",
    "    # Adapted from: https://stackoverflow.com/questions/9727673/list-directory-tree-structure-in-python\n",
    "    for root, dirs, files in os.walk(outdir):\n",
    "        level = root.replace(outdir, '').count(os.sep)\n",
    "        print(f\"{' ' * 4*level}{os.path.basename(root)}\")\n",
    "        for file in files:\n",
    "            print(f\"{' ' * 4*(level+1)}{os.path.basename(file)}\")\n",
    "\n",
    "\n",
    "print_tree(bids_path)"
   ]
  },
  {
   "cell_type": "code",
   "execution_count": 5,
   "id": "c4cb1ef3",
   "metadata": {},
   "outputs": [
    {
     "name": "stderr",
     "output_type": "stream",
     "text": [
      "INFO       Currently running phys2bids version 2.10.0\n",
      "INFO       Input file is data/multifreq.acq\n",
      "INFO       File extension is .acq\n",
      "WARNING    If both acq and txt files exist in the path, acq will be selected.\n",
      "INFO       Reading the file /home/user/Documents/physio/repronim2024physiopy/data/multifreq.acq\n",
      "INFO       00. Channel RESP - RSP100C: 1336815 samples, 10000.0 samples/sec, loaded: True\n",
      "INFO       01. Channel PULSE - Custom, DA100C: 83550 samples, 625.0 samples/sec, loaded: True\n",
      "INFO       02. Channel MR TRIGGER - Custom, HLT100C - A 5: 1336815 samples, 10000.0 samples/sec, loaded: True\n",
      "INFO       03. Channel PPG100C: 1336815 samples, 10000.0 samples/sec, loaded: True\n",
      "INFO       04. Channel CO2: 1336815 samples, 10000.0 samples/sec, loaded: True\n",
      "INFO       05. Channel O2: 1336815 samples, 10000.0 samples/sec, loaded: True\n",
      "INFO       Running automatic trigger detection.\n",
      "INFO       Matching channel names with known trigger names first.\n",
      "INFO       MR TRIGGER - Custom, HLT100C - A 5 selected as trigger channel\n",
      "INFO       Checking that units of measure are BIDS compatible\n",
      "INFO       Reading infos\n",
      "INFO       \n",
      "------------------------------------------------\n",
      "File data/multifreq.acq contains:\n",
      "01. RESP - RSP100C; sampled at 10000.0 Hz\n",
      "02. PULSE - Custom, DA100C; sampled at 625.0 Hz\n",
      "03. MR TRIGGER - Custom, HLT100C - A 5; sampled at 10000.0 Hz\n",
      "04. PPG100C; sampled at 10000.0 Hz\n",
      "05. CO2; sampled at 10000.0 Hz\n",
      "06. O2; sampled at 10000.0 Hz\n",
      "------------------------------------------------\n",
      "\n",
      "INFO       saving channel plot to /home/user/Documents/physio/repronim2024physiopy/data/multifreq_bids/code/conversion/multifreq.png\n",
      "INFO       Dropping unselected channels\n",
      "INFO       Counting trigger points\n",
      "INFO       The trigger is in channel 3\n",
      "INFO       The number of timepoints according to the std_thr method is 60. The computed threshold is 0.1097\n",
      "INFO       Checking number of timepoints\n",
      "INFO       Found just the right amount of timepoints!\n",
      "INFO       Plot trigger\n",
      "INFO       Found 2 different frequencies in input!\n",
      "INFO       Preparing 2 output files.\n",
      "INFO       Preparing BIDS output using data/heur_tutorial.py\n",
      "INFO       Updating participants.tsv ...\n",
      "WARNING    phys2bids could not find participants.tsv\n",
      "INFO       No yaml file was provided. Using phys2bids data to populate participants.tsv\n",
      "WARNING    phys2bids could not find dataset_description.json,generating it with provided info\n",
      "WARNING    phys2bids could not find README,generating it EMPTY, please fill in the necessary info\n",
      "INFO       Exporting files for take 1 freq 10000.0\n",
      "INFO       \n",
      "------------------------------------------------\n",
      "Filename:            data/multifreq.acq\n",
      "\n",
      "Timepoints expected: [60]\n",
      "Timepoints found:    60\n",
      "Sampling Frequency:  10000.0 Hz\n",
      "Sampling started at: 10.4251 s\n",
      "Tip: Time 0 is the time of first trigger\n",
      "------------------------------------------------\n",
      "\n",
      "INFO       Exporting files for take 1 freq 625.0\n",
      "INFO       \n",
      "------------------------------------------------\n",
      "Filename:            data/multifreq.acq\n",
      "\n",
      "Timepoints expected: [60]\n",
      "Timepoints found:    60\n",
      "Sampling Frequency:  625.0 Hz\n",
      "Sampling started at: 10.4251 s\n",
      "Tip: Time 0 is the time of first trigger\n",
      "------------------------------------------------\n",
      "\n"
     ]
    }
   ],
   "source": [
    "# Let's bids-ify the data\n",
    "phys2bids(\n",
    "    'data/multifreq.acq',\n",
    "    info = False,\n",
    "    outdir = bids_path,\n",
    "    num_timepoints_expected = 60,\n",
    "    tr = 1.5,\n",
    "    chsel = [1, 2, 3, 4],\n",
    "    sub = '002',\n",
    "    ses = '01',\n",
    "    heur_file = 'data/heur_tutorial.py'\n",
    ")"
   ]
  },
  {
   "cell_type": "markdown",
   "id": "cc756e36-6c68-402b-8e09-069fa878fac1",
   "metadata": {},
   "source": [
    "<div class=\"alert alert-block alert-info\">\n",
    "<b>CLI version</b>\n",
    "<pre><code>phys2bids -in data/multifreq.acq -out data/multifreq_bids -ntp 60 -tr 1.5 -chsel 1 2 3 4 -sub 002 -ses 01 -heur data/heur_tutorial.py</code></pre>\n",
    "</div>"
   ]
  },
  {
   "cell_type": "code",
   "execution_count": 6,
   "id": "db1c1407-8bf0-4806-b2c0-841a7b9768b5",
   "metadata": {},
   "outputs": [
    {
     "name": "stdout",
     "output_type": "stream",
     "text": [
      "multifreq_bids\n",
      "    dataset_description.json\n",
      "    README\n",
      "    participants.tsv\n",
      "    sub-002\n",
      "        ses-01\n",
      "            func\n",
      "                sub-002_ses-01_task-SomeTask_recording-10000Hz_physio.json\n",
      "                sub-002_ses-01_task-SomeTask_recording-10000Hz_physio.tsv.gz\n",
      "                sub-002_ses-01_task-SomeTask_recording-625Hz_physio.json\n",
      "                sub-002_ses-01_task-SomeTask_recording-625Hz_physio.tsv.gz\n",
      "    code\n",
      "        conversion\n",
      "            heur_tutorial.py\n",
      "            call.sh\n",
      "            phys2bids_2024-11-01T113436.tsv\n",
      "            sub-002_ses-01_task-SomeTask_recording-625Hz_physio.log\n",
      "            phys2bids_2024-11-01T113432.tsv\n",
      "            multifreq.png\n",
      "            multifreq_sub-002_ses-01_trigger_time.png\n",
      "            sub-002_ses-01_task-SomeTask_recording-10000Hz_physio.log\n"
     ]
    }
   ],
   "source": [
    "# Let's check what we have now inside our output directory\n",
    "print_tree(bids_path)"
   ]
  },
  {
   "cell_type": "markdown",
   "id": "b0e127bd",
   "metadata": {},
   "source": [
    "## Preprocessing time !"
   ]
  },
  {
   "cell_type": "markdown",
   "id": "43cab779-998d-4b1a-8629-d5c678419248",
   "metadata": {},
   "source": [
    "<img src=\"figures/workflow_preproc.png\" width=\"800\" height=\"800\" >"
   ]
  },
  {
   "cell_type": "markdown",
   "id": "e8536e21",
   "metadata": {},
   "source": [
    "### Let's load our data"
   ]
  },
  {
   "cell_type": "code",
   "execution_count": 7,
   "id": "0e14b49a",
   "metadata": {},
   "outputs": [
    {
     "name": "stderr",
     "output_type": "stream",
     "text": [
      "\u001b[32m2024-11-01 11:37:09.948\u001b[0m | \u001b[34m\u001b[1mDEBUG   \u001b[0m | \u001b[36mphysutils.io\u001b[0m:\u001b[36mload_from_bids\u001b[0m:\u001b[36m73\u001b[0m - \u001b[34m\u001b[1mBIDS file found: [<BIDSDataFile filename='/home/user/Documents/physio/repronim2024physiopy/data/multifreq_bids/sub-002/ses-01/func/sub-002_ses-01_task-SomeTask_recording-10000Hz_physio.tsv.gz'>]\u001b[0m\n",
      "\u001b[32m2024-11-01 11:37:09.952\u001b[0m | \u001b[34m\u001b[1mDEBUG   \u001b[0m | \u001b[36mphysutils.io\u001b[0m:\u001b[36mload_from_bids\u001b[0m:\u001b[36m87\u001b[0m - \u001b[34m\u001b[1mLoaded structure contains columns: ['time', 'RESP - RSP100C', 'MR TRIGGER - Custom, HLT100C - A 5', 'PPG100C']\u001b[0m\n",
      "\u001b[32m2024-11-01 11:37:10.848\u001b[0m | \u001b[34m\u001b[1mDEBUG   \u001b[0m | \u001b[36mphysutils.physio\u001b[0m:\u001b[36m__init__\u001b[0m:\u001b[36m293\u001b[0m - \u001b[34m\u001b[1mInitializing new Physio object\u001b[0m\n",
      "\u001b[32m2024-11-01 11:37:10.848\u001b[0m | \u001b[33m\u001b[1mWARNING \u001b[0m | \u001b[36mphysutils.io\u001b[0m:\u001b[36mload_from_bids\u001b[0m:\u001b[36m133\u001b[0m - \u001b[33m\u001b[1mMRI trigger characteristics extraction not yet implemented\u001b[0m\n",
      "\u001b[32m2024-11-01 11:37:10.853\u001b[0m | \u001b[34m\u001b[1mDEBUG   \u001b[0m | \u001b[36mphysutils.physio\u001b[0m:\u001b[36m__init__\u001b[0m:\u001b[36m293\u001b[0m - \u001b[34m\u001b[1mInitializing new Physio object\u001b[0m\n",
      "\u001b[32m2024-11-01 11:37:10.856\u001b[0m | \u001b[34m\u001b[1mDEBUG   \u001b[0m | \u001b[36mphysutils.physio\u001b[0m:\u001b[36m__init__\u001b[0m:\u001b[36m293\u001b[0m - \u001b[34m\u001b[1mInitializing new Physio object\u001b[0m\n"
     ]
    }
   ],
   "source": [
    "# Let's load our timeseries from the phys2bids output !\n",
    "\n",
    "data = load_from_bids(\n",
    "    bids_path, \n",
    "    subject='002',\n",
    "    session='01',\n",
    "    task='SomeTask',\n",
    "    recording='10000Hz')"
   ]
  },
  {
   "cell_type": "code",
   "execution_count": 8,
   "id": "c1a57810",
   "metadata": {},
   "outputs": [
    {
     "name": "stdout",
     "output_type": "stream",
     "text": [
      "{'RESP - RSP100C': Physio(size=1128313, fs=10000.0), 'MR TRIGGER - Custom, HLT100C - A 5': Physio(size=1128313, fs=10000.0), 'PPG100C': Physio(size=1128313, fs=10000.0)}\n"
     ]
    }
   ],
   "source": [
    "print(data)"
   ]
  },
  {
   "cell_type": "markdown",
   "id": "0494b752",
   "metadata": {},
   "source": [
    "<div class=\"alert alert-block alert-info\">\n",
    "<b>What do we have here ?</b>\n",
    "<br><code>data</code> is a dictionnary. Each element of this dictionnary corresponds to one channel:\n",
    "<ul>\n",
    "    <li>RESP - RSP100C</li>\n",
    "    <li>MR  TRIGGER - Custom, HLT100C - A5</li>\n",
    "    <li>PPG100C</li>\n",
    "</ul>\n",
    "The value associated with each key is a <a href=\"https://peakdet.readthedocs.io/en/latest/api.html#peakdet.Physio\"><code>Physio</code></a> object. For the rest of this tutorial, we will focus on the PPG data.\n",
    "</div>"
   ]
  },
  {
   "cell_type": "code",
   "execution_count": 9,
   "id": "320e0bb7",
   "metadata": {},
   "outputs": [
    {
     "name": "stdout",
     "output_type": "stream",
     "text": [
      "Physio(size=1128313, fs=10000.0)\n"
     ]
    }
   ],
   "source": [
    "phys_ppg = Physio(data['PPG100C'].data, fs = data['PPG100C'].fs)\n",
    "print(phys_ppg)"
   ]
  },
  {
   "cell_type": "code",
   "execution_count": 10,
   "id": "57fc6702",
   "metadata": {},
   "outputs": [
    {
     "name": "stdout",
     "output_type": "stream",
     "text": [
      "Data: [ 0.08483887  0.08514404  0.08483887 ... -0.01373291 -0.01464844\n",
      " -0.01403809]\n",
      "Sampling rate: 10000.0\n"
     ]
    }
   ],
   "source": [
    "# We can access out data by calling the `data` attribute on our physio object\n",
    "print(f'Data: {phys_ppg.data}')\n",
    "# As well as its corresponding sampling rate by calling the `fs` attribute\n",
    "print(f'Sampling rate: {phys_ppg.fs}')"
   ]
  },
  {
   "cell_type": "markdown",
   "id": "a3f8a664",
   "metadata": {},
   "source": [
    "### Let's now visualize our data"
   ]
  },
  {
   "cell_type": "code",
   "execution_count": 11,
   "id": "1b089e33",
   "metadata": {},
   "outputs": [
    {
     "data": {
      "text/plain": [
       "Text(0, 0.5, 'Amplitude')"
      ]
     },
     "execution_count": 11,
     "metadata": {},
     "output_type": "execute_result"
    },
    {
     "data": {
      "image/png": "[encoded data removed]",
      "text/plain": [
       "<Figure size 640x480 with 1 Axes>"
      ]
     },
     "metadata": {},
     "output_type": "display_data"
    }
   ],
   "source": [
    "ax = operations.plot_physio(phys_ppg)\n",
    "ax.set_title(\"Raw PPG\")\n",
    "#ax.set_xlim(0,30)\n",
    "ax.set_xlabel(\"Time (seconds)\")\n",
    "ax.set_ylabel(\"Amplitude\")"
   ]
  },
  {
   "cell_type": "markdown",
   "id": "84aafb62",
   "metadata": {},
   "source": [
    "### Let's try cleaning our signal"
   ]
  },
  {
   "cell_type": "code",
   "execution_count": 14,
   "id": "c4ce1013",
   "metadata": {},
   "outputs": [],
   "source": [
    "# First let's downsample our signal\n",
    "phys_ppg = operations.interpolate_physio(phys_ppg, target_fs=250)"
   ]
  },
  {
   "cell_type": "code",
   "execution_count": 16,
   "id": "7c7cfa52-0933-40d0-96f5-a85a2718955c",
   "metadata": {},
   "outputs": [
    {
     "name": "stdout",
     "output_type": "stream",
     "text": [
      "[('interpolate_physio', {'target_fs': 250}), ('interpolate_physio', {'target_fs': 250})]\n"
     ]
    }
   ],
   "source": [
    "print(phys_ppg.history)"
   ]
  },
  {
   "cell_type": "markdown",
   "id": "caf95051",
   "metadata": {},
   "source": [
    "<div class=\"alert alert-block alert-warning\">\n",
    "<b>Panic at the physio: how to deal with lack of standardization ?</b>\n",
    "<br>Preprocessing physiological data is a grand endavor: each step of the preprocessing requires making a lot of decisions ! To what frequency should we downsample our data, when should we downsampled our data, what kind of filtering should we do, what are the chosen cutoffs, order, etc. And this is only to get our data ready to extract the features ! The amount of choices that researchers need to do after just continue to grow... ¯\\_(ツ)_/¯\n",
    "\n",
    "<br>The lack of reporting standards makes it quite hard to try to reproduce what have been done previously. `peakdet` is offering a solution by storing and saving all the steps that have been applied to the data through the `history` attribute !\n",
    "</div>"
   ]
  },
  {
   "cell_type": "code",
   "execution_count": 17,
   "id": "3a0b8bba",
   "metadata": {},
   "outputs": [
    {
     "name": "stdout",
     "output_type": "stream",
     "text": [
      "[('interpolate_physio', {'target_fs': 250}), ('interpolate_physio', {'target_fs': 250}), ('filter_physio', {'cutoffs': [0.5, 8], 'method': 'bandpass', 'order': 3})]\n"
     ]
    }
   ],
   "source": [
    "# We can filter out some frequencies using the `filter_physio` function\n",
    "phys_ppg = operations.filter_physio(phys_ppg, cutoffs=[0.5, 8], method='bandpass', order=3)\n",
    "print(phys_ppg.history)"
   ]
  },
  {
   "cell_type": "code",
   "execution_count": 18,
   "id": "b64820be",
   "metadata": {},
   "outputs": [
    {
     "data": {
      "text/plain": [
       "Text(0, 0.5, 'Amplitude')"
      ]
     },
     "execution_count": 18,
     "metadata": {},
     "output_type": "execute_result"
    },
    {
     "data": {
      "image/png": "[encoded data removed]",
      "text/plain": [
       "<Figure size 640x480 with 1 Axes>"
      ]
     },
     "metadata": {},
     "output_type": "display_data"
    }
   ],
   "source": [
    "ax = operations.plot_physio(phys_ppg)\n",
    "ax.set_title(\"Filtered PPG\")\n",
    "ax.set_xlim(0,30)\n",
    "ax.set_xlabel(\"Time (seconds)\")\n",
    "ax.set_ylabel(\"Amplitude\")"
   ]
  },
  {
   "cell_type": "markdown",
   "id": "dc5950be",
   "metadata": {},
   "source": [
    "## We can now find our systolic peaks !"
   ]
  },
  {
   "cell_type": "code",
   "execution_count": 19,
   "id": "54a52de8-55eb-4343-939a-b4caa05ba1b4",
   "metadata": {},
   "outputs": [
    {
     "data": {
      "text/plain": [
       "[('interpolate_physio', {'target_fs': 250}),\n",
       " ('interpolate_physio', {'target_fs': 250}),\n",
       " ('filter_physio', {'cutoffs': [0.5, 8], 'method': 'bandpass', 'order': 3}),\n",
       " ('peakfind_physio', {'dist': None, 'thresh': 0.2})]"
      ]
     },
     "execution_count": 19,
     "metadata": {},
     "output_type": "execute_result"
    }
   ],
   "source": [
    "phys_ppg = operations.peakfind_physio(phys_ppg, thresh=0.2, dist=None)\n",
    "phys_ppg.history"
   ]
  },
  {
   "cell_type": "code",
   "execution_count": 20,
   "id": "3f14b0bd",
   "metadata": {},
   "outputs": [
    {
     "data": {
      "text/plain": [
       "Text(0, 0.5, 'Amplitude')"
      ]
     },
     "execution_count": 20,
     "metadata": {},
     "output_type": "execute_result"
    },
    {
     "data": {
      "image/png": "[encoded data removed]",
      "text/plain": [
       "<Figure size 640x480 with 1 Axes>"
      ]
     },
     "metadata": {},
     "output_type": "display_data"
    }
   ],
   "source": [
    "ax = operations.plot_physio(phys_ppg)\n",
    "ax.set_title(\"Filtered PPG\")\n",
    "ax.set_xlim(0, 30)\n",
    "ax.set_xlabel(\"Time (seconds)\")\n",
    "ax.set_ylabel(\"Amplitude\")"
   ]
  },
  {
   "cell_type": "markdown",
   "id": "3a05b1af",
   "metadata": {},
   "source": [
    "## Automation is useful, but manual check is necessary !"
   ]
  },
  {
   "cell_type": "code",
   "execution_count": 21,
   "id": "a94bd989",
   "metadata": {},
   "outputs": [],
   "source": [
    "%matplotlib qt\n",
    "phys_ppg = operations.edit_physio(phys_ppg)"
   ]
  },
  {
   "cell_type": "code",
   "execution_count": 22,
   "id": "923f479e",
   "metadata": {},
   "outputs": [
    {
     "data": {
      "text/plain": [
       "[('interpolate_physio', {'target_fs': 250}),\n",
       " ('interpolate_physio', {'target_fs': 250}),\n",
       " ('filter_physio', {'cutoffs': [0.5, 8], 'method': 'bandpass', 'order': 3}),\n",
       " ('peakfind_physio', {'dist': None, 'thresh': 0.2}),\n",
       " ('delete_peaks',\n",
       "  {'remove': [26887, 27065, 27240, 27398, 27566, 27740, 27935, 28114]}),\n",
       " ('add_peaks', {'add': [28114]})]"
      ]
     },
     "execution_count": 22,
     "metadata": {},
     "output_type": "execute_result"
    }
   ],
   "source": [
    "phys_ppg.history"
   ]
  },
  {
   "cell_type": "markdown",
   "id": "67dd6d05",
   "metadata": {},
   "source": [
    "<div class=\"alert alert-block alert-warning\">\n",
    "<b><code>edit_physio</code> is not working in jupyter notebook ?</b>\n",
    "<br>If the GUI is not working in jupyter notebook, please try running the python code in your terminal.\n",
    "</div>"
   ]
  },
  {
   "cell_type": "markdown",
   "id": "c65ade46",
   "metadata": {},
   "source": [
    "**Let's check what is now happening in the history of our Physio object**"
   ]
  },
  {
   "cell_type": "code",
   "execution_count": 23,
   "id": "7c8c137e",
   "metadata": {},
   "outputs": [
    {
     "data": {
      "text/plain": [
       "'data/multifreq_derivatives/sub-002/ses-01/sub-002_ses-01_task-SomeTask_recording-ppg_desc-preproc.json'"
      ]
     },
     "execution_count": 23,
     "metadata": {},
     "output_type": "execute_result"
    }
   ],
   "source": [
    "# Let's save our hard work !\n",
    "\n",
    "bids_derivatives = 'data/multifreq_derivatives'\n",
    "sub = '002'\n",
    "ses = '01'\n",
    "\n",
    "# If the subject directory does not exist, create it !\n",
    "if not os.path.exists(os.path.join(bids_derivatives, f'sub-{sub}', f'ses-{ses}')):\n",
    "    os.makedirs(os.path.join(bids_derivatives, f'sub-{sub}', f'ses-{ses}'))\n",
    "\n",
    "# Saving the physio object\n",
    "io.save_physio(os.path.join(bids_derivatives, f'sub-{sub}', f'ses-{ses}', f'sub-{sub}_ses-{ses}_task-SomeTask_recording-ppg_desc-preproc.phys'), phys_ppg)\n",
    "# Saving the history\n",
    "io.save_history(os.path.join(bids_derivatives, f'sub-{sub}', f'ses-{ses}', f'sub-{sub}_ses-{ses}_task-SomeTask_recording-ppg_desc-preproc.json'), phys_ppg)"
   ]
  },
  {
   "cell_type": "markdown",
   "id": "f3a31e78",
   "metadata": {},
   "source": [
    "<div class=\"alert alert-block alert-warning\">\n",
    "<b>Coming soon !</b>\n",
    "<br> We are currently working on a BIDS app-ified version of <code>peakdet</code>, called <code>prep4phys</code>. The <code>Physio</code> object will remain in <code>prep4phys</code>, but the way it handles inputs and outputs will change to ensure interoperability between <code>phys2bids</code>, <code>phys2denoise</code>, and <code>prep4phys</code>. Other functionalities will be added on top of the current <code>peakdet</code> ones. \n",
    "</div>"
   ]
  },
  {
   "cell_type": "markdown",
   "id": "b01468d6",
   "metadata": {},
   "source": [
    "## Preparing physiological models"
   ]
  },
  {
   "cell_type": "markdown",
   "id": "38f65a5c-7965-441a-beb2-e17bca343ef1",
   "metadata": {},
   "source": [
    "<img src=\"figures/workflow_fig.png\" width=\"800\" height=\"800\" >"
   ]
  },
  {
   "cell_type": "markdown",
   "id": "a288d4b1",
   "metadata": {},
   "source": [
    "<div class=\"alert alert-block alert-warning\">\n",
    "<b>Phys2denoise</b>\n",
    "<br>In the following section, we will use <code>phys2denoise</code> to compute metrics using the ppg signal previously preprocessed and the corresponding extracted features (peaks). In addition to all the integrated cardiac metrics, <code>phys2denoise</code> also supports respiratory data. For more details, take a look at <a href=\"https://phys2denoise.readthedocs.io/en/latest/\">the documentation</a> !\n",
    "</div>"
   ]
  },
  {
   "cell_type": "code",
   "execution_count": 24,
   "id": "4669cb8b",
   "metadata": {},
   "outputs": [],
   "source": [
    "# To extract metrics from our signal, we'll use `phys2denoise`\n",
    "from phys2denoise.metrics.cardiac import heart_rate_variability, heart_rate\n",
    "from phys2denoise.metrics.utils import export_metric"
   ]
  },
  {
   "cell_type": "code",
   "execution_count": 25,
   "id": "f7c0114b",
   "metadata": {},
   "outputs": [
    {
     "name": "stdout",
     "output_type": "stream",
     "text": [
      "[('interpolate_physio', {'target_fs': 250}), ('interpolate_physio', {'target_fs': 250}), ('filter_physio', {'cutoffs': [0.5, 8], 'method': 'bandpass', 'order': 3}), ('peakfind_physio', {'dist': None, 'thresh': 0.2}), ('delete_peaks', {'remove': [26887, 27065, 27240, 27398, 27566, 27740, 27935, 28114]}), ('add_peaks', {'add': [28114]})]\n"
     ]
    }
   ],
   "source": [
    "# Let's load our preprocessed data\n",
    "filtered_ppg = io.load_physio(os.path.join(bids_derivatives, f'sub-{sub}', f'ses-{ses}', f'sub-{sub}_ses-{ses}_task-SomeTask_recording-ppg_desc-preproc.phys'), allow_pickle=True)\n",
    "print(filtered_ppg.history)"
   ]
  },
  {
   "cell_type": "code",
   "execution_count": 26,
   "id": "84548566",
   "metadata": {},
   "outputs": [
    {
     "name": "stderr",
     "output_type": "stream",
     "text": [
      "\u001b[32m2024-11-01 11:44:57.522\u001b[0m | \u001b[34m\u001b[1mDEBUG   \u001b[0m | \u001b[36mphysutils.io\u001b[0m:\u001b[36mload_physio\u001b[0m:\u001b[36m194\u001b[0m - \u001b[34m\u001b[1mInstantiating Physio object from numpy array\u001b[0m\n",
      "\u001b[32m2024-11-01 11:44:57.526\u001b[0m | \u001b[33m\u001b[1mWARNING \u001b[0m | \u001b[36mphysutils.io\u001b[0m:\u001b[36mload_physio\u001b[0m:\u001b[36m196\u001b[0m - \u001b[33m\u001b[1mLoading data from a numpy array without providing ahistory will render reproducibility functions useless! Continuing anyways.\u001b[0m\n",
      "\u001b[32m2024-11-01 11:44:57.528\u001b[0m | \u001b[34m\u001b[1mDEBUG   \u001b[0m | \u001b[36mphysutils.physio\u001b[0m:\u001b[36m__init__\u001b[0m:\u001b[36m293\u001b[0m - \u001b[34m\u001b[1mInitializing new Physio object\u001b[0m\n",
      "\u001b[32m2024-11-01 11:45:00.183\u001b[0m | \u001b[34m\u001b[1mDEBUG   \u001b[0m | \u001b[36mphys2denoise.metrics.responses\u001b[0m:\u001b[36mcrf\u001b[0m:\u001b[36m62\u001b[0m - \u001b[34m\u001b[1mTime stamps: [0.]\u001b[0m\n",
      "\u001b[32m2024-11-01 11:45:00.184\u001b[0m | \u001b[34m\u001b[1mDEBUG   \u001b[0m | \u001b[36mphys2denoise.metrics.responses\u001b[0m:\u001b[36mcrf\u001b[0m:\u001b[36m65\u001b[0m - \u001b[34m\u001b[1mCRF: [-1.]\u001b[0m\n",
      "\u001b[32m2024-11-01 11:45:00.186\u001b[0m | \u001b[34m\u001b[1mDEBUG   \u001b[0m | \u001b[36mphysutils.io\u001b[0m:\u001b[36mload_physio\u001b[0m:\u001b[36m194\u001b[0m - \u001b[34m\u001b[1mInstantiating Physio object from numpy array\u001b[0m\n",
      "\u001b[32m2024-11-01 11:45:00.187\u001b[0m | \u001b[33m\u001b[1mWARNING \u001b[0m | \u001b[36mphysutils.io\u001b[0m:\u001b[36mload_physio\u001b[0m:\u001b[36m196\u001b[0m - \u001b[33m\u001b[1mLoading data from a numpy array without providing ahistory will render reproducibility functions useless! Continuing anyways.\u001b[0m\n",
      "\u001b[32m2024-11-01 11:45:00.187\u001b[0m | \u001b[34m\u001b[1mDEBUG   \u001b[0m | \u001b[36mphysutils.physio\u001b[0m:\u001b[36m__init__\u001b[0m:\u001b[36m293\u001b[0m - \u001b[34m\u001b[1mInitializing new Physio object\u001b[0m\n",
      "\u001b[32m2024-11-01 11:45:03.130\u001b[0m | \u001b[34m\u001b[1mDEBUG   \u001b[0m | \u001b[36mphys2denoise.metrics.responses\u001b[0m:\u001b[36mcrf\u001b[0m:\u001b[36m62\u001b[0m - \u001b[34m\u001b[1mTime stamps: [0.]\u001b[0m\n",
      "\u001b[32m2024-11-01 11:45:03.131\u001b[0m | \u001b[34m\u001b[1mDEBUG   \u001b[0m | \u001b[36mphys2denoise.metrics.responses\u001b[0m:\u001b[36mcrf\u001b[0m:\u001b[36m65\u001b[0m - \u001b[34m\u001b[1mCRF: [-1.]\u001b[0m\n"
     ]
    }
   ],
   "source": [
    "# Compute the heart rate\n",
    "hr = heart_rate(filtered_ppg.data, filtered_ppg.peaks, filtered_ppg.fs)\n",
    "# Compute the heart rate variability\n",
    "hrv = heart_rate_variability(filtered_ppg.data, filtered_ppg.peaks, filtered_ppg.fs)"
   ]
  },
  {
   "cell_type": "markdown",
   "id": "e5525588",
   "metadata": {},
   "source": [
    "<div class=\"alert alert-block alert-info\">\n",
    "<b>Heart rate</b>\n",
    "<br> The <code>heart_rate</code> function computes the heart rate as the average of the inverse of the time interval between two heart beats.\n",
    "<br>    \n",
    "<br>\n",
    "<b>Variability in heart rate variability</b>\n",
    "<br> There are multiple measures reflecting the variability of the heart rate that can be computed. For a summary of the different HRV indices, please see <a href=\"https://doi.org/10.3390/s21123998\">Pham et al., 2021</a>. Currently, <code>phys2denoise</code> is computing the standard deviation of the inverse of the time interval\n",
    "between two heart beats.\n",
    "</div>"
   ]
  },
  {
   "cell_type": "code",
   "execution_count": 27,
   "id": "6a43b3bd",
   "metadata": {},
   "outputs": [],
   "source": [
    "# Let's see what we've got\n",
    "plt.figure(figsize=(20, 2))\n",
    "plt.plot(hr[:,0], label=\"hr\")\n",
    "plt.plot(hrv[:,0], label=\"hrv\")\n",
    "plt.legend(loc=\"lower right\")\n",
    "plt.show()"
   ]
  },
  {
   "cell_type": "code",
   "execution_count": 28,
   "id": "3d64b731",
   "metadata": {},
   "outputs": [
    {
     "data": {
      "text/plain": [
       "'data/multifreq_derivatives/sub-002/ses-01/sub-002_ses-01_task-SomeTask_recording-ppg_desc-hrv'"
      ]
     },
     "execution_count": 28,
     "metadata": {},
     "output_type": "execute_result"
    }
   ],
   "source": [
    "# Let's again save our hard work !\n",
    "export_metric(\n",
    "    hrv, filtered_ppg.fs, tr=1.5, fileprefix=os.path.join(bids_derivatives, f'sub-{sub}', f'ses-{ses}', f'sub-{sub}_ses-{ses}_task-SomeTask_recording-ppg_desc-hrv')\n",
    ")"
   ]
  },
  {
   "cell_type": "markdown",
   "id": "d23dcc68",
   "metadata": {},
   "source": [
    "## Wanna contribute ?\n",
    "Take a look at our [contributor guide](https://physiopy.github.io/contributors-guide/) !"
   ]
  },
  {
   "cell_type": "markdown",
   "id": "526a5781",
   "metadata": {},
   "source": [
    "<h2>\n",
    "    And a big thank you to all the people that have contributed to at least one of those libraries !\n",
    "</h2>\n",
    "\n",
    "<table>\n",
    "  <tbody>\n",
    "    <tr>\n",
    "      <td align=\"center\" valign=\"top\" width=\"5%\"><a href=\"https://github.com/danalclop\"><img src=\"https://avatars0.githubusercontent.com/u/38854309?v=4?s=100\" width=\"100px;\" alt=\"Daniel Alcalá\"/><br /></a><br /></td>\n",
    "      <td align=\"center\" valign=\"top\" width=\"5%\"><a href=\"https://github.com/AyyagariA\"><img src=\"https://avatars1.githubusercontent.com/u/50453337?v=4?s=100\" width=\"100px;\" alt=\"Apoorva Ayyagari\"/><br /></a><br /></td>\n",
    "      <td align=\"center\" valign=\"top\" width=\"5%\"><a href=\"https://github.com/62442katieb\"><img src=\"https://avatars1.githubusercontent.com/u/14095475?v=4?s=100\" width=\"100px;\" alt=\"Katie Bottenhorn\"/><br /></a><br /></td>\n",
    "      <td align=\"center\" valign=\"top\" width=\"5%\"><a href=\"http://brightlab.northwestern.edu\"><img src=\"https://avatars2.githubusercontent.com/u/32640425?v=4?s=100\" width=\"100px;\" alt=\"Molly Bright\"/><br /></a><br /></td>\n",
    "      <td align=\"center\" valign=\"top\" width=\"5%\"><a href=\"https://github.com/CesarCaballeroGaudes\"><img src=\"https://avatars1.githubusercontent.com/u/7611340?v=4?s=100\" width=\"100px;\" alt=\"Cesar Caballero Gaudes\"/><br /></a><br /></td>\n",
    "      <td align=\"center\" valign=\"top\" width=\"5%\"><a href=\"https://github.com/ineschh\"><img src=\"https://avatars.githubusercontent.com/u/72545702?v=4?s=100\" width=\"100px;\" alt=\"Inés Chavarría\"/><br /></a><br /></td>\n",
    "    </tr>\n",
    "    <tr>\n",
    "      <td align=\"center\" valign=\"top\" width=\"5%\"><a href=\"https://github.com/nw-duncan\"><img src=\"https://avatars.githubusercontent.com/u/23524584?v=4?s=100\" width=\"100px;\" alt=\"Niall Duncan\"/><br /></a><br /></td>\n",
    "      <td align=\"center\" valign=\"top\" width=\"5%\"><a href=\"https://github.com/emdupre\"><img src=\"https://avatars3.githubusercontent.com/u/15017191?v=4?s=100\" width=\"100px;\" alt=\"Elizabeth DuPre\"/><br /></a><br /></td>\n",
    "      <td align=\"center\" valign=\"top\" width=\"5%\"><a href=\"https://github.com/vinferrer\"><img src=\"https://avatars2.githubusercontent.com/u/38909338?v=4?s=100\" width=\"100px;\" alt=\"Vicente Ferrer\"/><br /></a><br /></td>\n",
    "      <td align=\"center\" valign=\"top\" width=\"5%\"><a href=\"https://github.com/eril892\"><img src=\"https://avatars.githubusercontent.com/u/91672536?v=4?s=100\" width=\"100px;\" alt=\"Raphaël Fournier\"/><br /></a><br /></td>\n",
    "      <td align=\"center\" valign=\"top\" width=\"5%\"><a href=\"https://github.com/afni-dglen\"><img src=\"https://avatars.githubusercontent.com/u/10454715?v=4?s=100\" width=\"100px;\" alt=\"Daniel Glen\"/><br /></a><br /></td>\n",
    "      <td align=\"center\" valign=\"top\" width=\"5%\"><a href=\"https://github.com/yarikoptic\"><img src=\"https://avatars.githubusercontent.com/u/39889?v=4?s=100\" width=\"100px;\" alt=\"Yaroslav Halchenko\"/><br /></a><br /></td>\n",
    "    </tr>\n",
    "    <tr>\n",
    "      <td align=\"center\" valign=\"top\" width=\"5%\"><a href=\"http://soichi.us\"><img src=\"https://avatars3.githubusercontent.com/u/923896?v=4?s=100\" width=\"100px;\" alt=\"Soichi Hayashi\"/><br /></a><br /></td>\n",
    "      <td align=\"center\" valign=\"top\" width=\"5%\"><a href=\"https://github.com/viacovella\"><img src=\"https://avatars1.githubusercontent.com/u/1639782?v=4?s=100\" width=\"100px;\" alt=\"Vittorio Iacovella\"/><br /></a><br /></td>\n",
    "      <td align=\"center\" valign=\"top\" width=\"5%\"><a href=\"https://github.com/maestroque\"><img src=\"https://avatars.githubusercontent.com/u/74024609?v=4?s=100\" width=\"100px;\" alt=\"George Kikas\"/><br /></a><br /></td>\n",
    "      <td align=\"center\" valign=\"top\" width=\"5%\"><a href=\"https://github.com/TomasLenc\"><img src=\"https://avatars.githubusercontent.com/u/10827440?v=4?s=100\" width=\"100px;\" alt=\"Tomas Lenc\"/><br /></a><br /></td>\n",
    "      <td align=\"center\" valign=\"top\" width=\"5%\"><a href=\"https://github.com/sangfrois\"><img src=\"https://avatars0.githubusercontent.com/u/38385719?v=4?s=100\" width=\"100px;\" alt=\"François Lespinasse\"/><br /></a><br /></td>\n",
    "      <td align=\"center\" valign=\"top\" width=\"5%\"><a href=\"https://github.com/rmarkello\"><img src=\"https://avatars0.githubusercontent.com/u/14265705?v=4?s=100\" width=\"100px;\" alt=\"Ross Markello\"/><br /></a><br /></td>\n",
    "    </tr>\n",
    "    <tr>\n",
    "      <td align=\"center\" valign=\"top\" width=\"5%\"><a href=\"https://github.com/m-miedema\"><img src=\"https://avatars.githubusercontent.com/u/39968233?v=4?s=100\" width=\"100px;\" alt=\"m-miedema\"/><br /></a><br /></td>\n",
    "      <td align=\"center\" valign=\"top\" width=\"5%\"><a href=\"https://github.com/smoia\"><img src=\"https://avatars.githubusercontent.com/u/35300580?v=4?s=100\" width=\"100px;\" alt=\"Stefano Moia\"/><br /></a><br /></td>\n",
    "      <td align=\"center\" valign=\"top\" width=\"5%\"><a href=\"https://github.com/robertoostenveld\"><img src=\"https://avatars1.githubusercontent.com/u/899043?v=4?s=100\" width=\"100px;\" alt=\"Robert Oostenveld\"/><br /></a><br /></td>\n",
    "      <td align=\"center\" valign=\"top\" width=\"5%\"><a href=\"https://github.com/AlicePatin\"><img src=\"https://avatars.githubusercontent.com/u/44365985?v=4?s=100\" width=\"100px;\" alt=\"Alice Patin\"/><br /></a><br /></td>\n",
    "      <td align=\"center\" valign=\"top\" width=\"5%\"><a href=\"https://github.com/me-pic\"><img src=\"https://avatars.githubusercontent.com/u/77584086?v=4?s=100\" width=\"100px;\" alt=\"Marie-Eve Picard\"/><br /></a><br /></td>\n",
    "      <td align=\"center\" valign=\"top\" width=\"5%\"><a href=\"https://github.com/bpinsard\"><img src=\"https://avatars.githubusercontent.com/u/1155388?v=4?s=100\" width=\"100px;\" alt=\"Basile\"/><br /></a><br /></td>\n",
    "    </tr>\n",
    "    <tr>\n",
    "      <td align=\"center\" valign=\"top\" width=\"5%\"><a href=\"https://github.com/drombas\"><img src=\"https://avatars.githubusercontent.com/u/50577357?v=4?s=100\" width=\"100px;\" alt=\"David Romero-Bascones\"/><br /></a><br /></td>\n",
    "      <td align=\"center\" valign=\"top\" width=\"5%\"><a href=\"https://github.com/rzlim08\"><img src=\"https://avatars.githubusercontent.com/u/37033997?v=4?s=100\" width=\"100px;\" alt=\"rzlim08\"/><br /></a><br /></td>\n",
    "      <td align=\"center\" valign=\"top\" width=\"5%\"><a href=\"https://github.com/tsalo\"><img src=\"https://avatars.githubusercontent.com/u/8228902?v=4?s=100\" width=\"100px;\" alt=\"Taylor Salo\"/><br /></a><br /></td>\n",
    "      <td align=\"center\" valign=\"top\" width=\"5%\"><a href=\"https://github.com/RayStick\"><img src=\"https://avatars.githubusercontent.com/u/50215726?v=4?s=100\" width=\"100px;\" alt=\"Rachael Stickland\"/><br /></a><br /></td>\n",
    "      <td align=\"center\" valign=\"top\" width=\"5%\"><a href=\"https://github.com/mixue-t\"><img src=\"https://avatars.githubusercontent.com/u/28149789?v=4?s=100\" width=\"100px;\" alt=\"Mi-Xue Tan\"/><br /></a><br /></td>\n",
    "      <td align=\"center\" valign=\"top\" width=\"5%\"><a href=\"https://github.com/eurunuela\"><img src=\"https://avatars.githubusercontent.com/u/13706448?v=4?s=100\" width=\"100px;\" alt=\"Eneko Uruñuela\"/><br /></a><br /></td>\n",
    "    </tr>\n",
    "    <tr>\n",
    "      <td align=\"center\" valign=\"top\" width=\"5%\"><a href=\"https://github.com/merelvdthiel\"><img src=\"https://avatars1.githubusercontent.com/u/72999546?v=4?s=100\" width=\"100px;\" alt=\"Merel van der Thiel\"/><br /></a><br /></td>\n",
    "      <td align=\"center\" valign=\"top\" width=\"5%\"><a href=\"https://github.com/victox5\"><img src=\"https://avatars1.githubusercontent.com/u/56017659?v=4?s=100\" width=\"100px;\" alt=\"victox5\"/><br /></a><br /></td>\n",
    "      <td align=\"center\" valign=\"top\" width=\"5%\"><a href=\"https://wanghaoting.com/\"><img src=\"https://avatars.githubusercontent.com/u/13743617?v=4?s=100\" width=\"100px;\" alt=\"Hao-Ting Wang\"/><br /></a><br /></td>\n",
    "      <td align=\"center\" valign=\"top\" width=\"5%\"><a href=\"https://github.com/xl624\"><img src=\"https://avatars0.githubusercontent.com/u/25593301?v=4?s=100\" width=\"100px;\" alt=\"xl624\"/><br /></a><br /></td>\n",
    "    <td align=\"center\" valign=\"top\" width=\"5%\"><a href=\"https://github.com/kristinazvolanek\"><img src=\"https://avatars.githubusercontent.com/u/54590158?v=4?s=100\" width=\"100px;\" alt=\"Kristina Zvolanek\"/><br /></a><br /></td>\n",
    "    <td align=\"center\" valign=\"top\" width=\"5%\"><a href=\"https://github.com/marcelzwiers\"><img src=\"https://avatars.githubusercontent.com/u/15156015?v=4?s=100\" width=\"100px;\" alt=\"Marcel Zwiers\"/><br /></a><br /></td>\n",
    "    </tr>\n",
    "  </tbody>\n",
    "</table>"
   ]
  }
 ],
 "metadata": {
  "kernelspec": {
   "display_name": "env_3",
   "language": "python",
   "name": "env_3"
  },
  "language_info": {
   "codemirror_mode": {
    "name": "ipython",
    "version": 3
   },
   "file_extension": ".py",
   "mimetype": "text/x-python",
   "name": "python",
   "nbconvert_exporter": "python",
   "pygments_lexer": "ipython3",
   "version": "3.9.12"
  }
 },
 "nbformat": 4,
 "nbformat_minor": 5
}
